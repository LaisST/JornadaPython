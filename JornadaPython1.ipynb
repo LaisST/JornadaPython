{
  "nbformat": 4,
  "nbformat_minor": 0,
  "metadata": {
    "colab": {
      "name": "JornadaPython1.ipynb",
      "provenance": [],
      "authorship_tag": "ABX9TyOLS8499OriR+l5P5kXbuq7",
      "include_colab_link": true
    },
    "kernelspec": {
      "name": "python3",
      "display_name": "Python 3"
    }
  },
  "cells": [
    {
      "cell_type": "markdown",
      "metadata": {
        "id": "view-in-github",
        "colab_type": "text"
      },
      "source": [
        "<a href=\"https://colab.research.google.com/github/LaisST/JornadaPython/blob/main/JornadaPython1.ipynb\" target=\"_parent\"><img src=\"https://colab.research.google.com/assets/colab-badge.svg\" alt=\"Open In Colab\"/></a>"
      ]
    },
    {
      "cell_type": "code",
      "metadata": {
        "id": "4iXCOqOj9nYN"
      },
      "source": [
        "#Aula 1\n",
        "nome = \"Lais Costa\"\n",
        "print(\"Hello\",nome)"
      ],
      "execution_count": null,
      "outputs": []
    },
    {
      "cell_type": "code",
      "metadata": {
        "id": "K5TYsEHXYqSz"
      },
      "source": [
        "#Aula 1 - Tipos de variáveis\n",
        "numero = 5 # int\n",
        "numero_decimal = 5.5 # float\n",
        "texto = \"Paulo\" # string\n",
        "maior_idade = True # bool\n",
        "\n",
        "print(numero, type(numero))\n",
        "print(numero_decimal, type(numero_decimal))\n",
        "print(texto, type(texto))\n",
        "print(maior_idade, type(maior_idade))"
      ],
      "execution_count": null,
      "outputs": []
    },
    {
      "cell_type": "code",
      "metadata": {
        "id": "qa3RlcgE3q7n"
      },
      "source": [
        "#Aula1 - Soma de variaveis\n",
        "print(5 + 5)\n",
        "print(\"Paulo\" + \"Salvatore\")\n",
        "print(\"1\" + \"5\")"
      ],
      "execution_count": null,
      "outputs": []
    },
    {
      "cell_type": "code",
      "metadata": {
        "colab": {
          "base_uri": "https://localhost:8080/"
        },
        "id": "zanyMaGK5AwG",
        "outputId": "49b68a79-66f0-48bb-cc92-0ae1cacb9330"
      },
      "source": [
        "\"\"\"Exercício 1 - \"E os 10% do garçom?\"\n",
        "Defina uma variável para o valor de uma refeição que custou R$ 42,54;\n",
        "Defina uma variável para o valor da taxa de serviço que é de 10%;\n",
        "Defina uma variável que calcula o valor total da conta e exiba-o no console.\"\"\"\n",
        "\n",
        "refeicao = 42.54\n",
        "taxa = (refeicao*10)/100\n",
        "total = refeicao + taxa\n",
        "print(\"O valor da refeição mais a taxa de serviço é R$ {:.2f}\".format(total))"
      ],
      "execution_count": null,
      "outputs": [
        {
          "output_type": "stream",
          "text": [
            "O valor da refeição mais a taxa de serviço é R$ 46.79\n"
          ],
          "name": "stdout"
        }
      ]
    },
    {
      "cell_type": "code",
      "metadata": {
        "id": "y6IyvL2OBOWu"
      },
      "source": [
        "\"\"\"Exercício 2 - Input de Informações\n",
        "Objetivo: Receber dados do usuário, trabalhar com os valores e exibir para o usuário.\n",
        "Dificuldade: Principiante\n",
        "1 - Crie um programa que receba do usuário seu nome, idade e gênero;\n",
        "2 - Exiba na tela seguinte mensagem: \"Olá, {nome}, você possui {idade} anos de idade e é do gênero {genero}.\";\n",
        "3 - Exiba também: \"Já pensou no que você fará no seu aniversário de {idade + 1} anos?\".\n",
        "Adicionando uma pimentinha extra: \"Se o usuário digitar idade 1, exiba apenas \"ano\" em vez de \"anos\" \"\"\"\n",
        "\n",
        "nome = input(\"Digite seu nome: \")\n",
        "idade = int(input(\"Digite a sua idade: \"))\n",
        "genero = input(\"Digite o seu gênero: \")\n",
        "if idade == 1:\n",
        "  ano_s = \"ano\"\n",
        "else:\n",
        "  ano_s = \"anos\"\n",
        "print(\"Olá {}, você possui {} {} de idade e é do gênero {}.\".format(nome, idade, ano_s, genero))\n",
        "if idade < 1:\n",
        "  ano_s = \"ano\"\n",
        "else:\n",
        "  ano_s = \"anos\"\n",
        "print(\"Já pensou no que você fará no seu aniversário de {} {}?\".format(idade+1,ano_s))"
      ],
      "execution_count": null,
      "outputs": []
    },
    {
      "cell_type": "code",
      "metadata": {
        "id": "wDbh-dQ-9-6L"
      },
      "source": [
        "#Formatação de string\n",
        "\n",
        "genero = \"Masculino\"\n",
        "print(\"Sem formatação:\", genero)\n",
        "print(\"Capitalize:\", genero.capitalize())\n",
        "print(\"Upper case:\", genero.upper())\n",
        "print(\"Lower case:\", genero.lower())\n",
        "print()\n",
        "if genero.lower() == \"masculino\":\n",
        "  print(f\"Esse if será lido\")\n",
        "else:\n",
        "  print(\"Esse if não foi lido\")"
      ],
      "execution_count": null,
      "outputs": []
    },
    {
      "cell_type": "code",
      "metadata": {
        "id": "M_25kfvP-JZp"
      },
      "source": [
        "# Comparações\n",
        "\n",
        "print(\"1 > 1\", 1 > 1)\n",
        "print(\"1 == 1\", 1 == 1)\n",
        "print(\"1 != 1\", 1 != 1)\n",
        "print(\"1 < 1\", 1 < 1)\n",
        "print(\"1 <= 1\", 1 <= 1)\n",
        "print(\"1 >= 1\", 1 >= 1)"
      ],
      "execution_count": null,
      "outputs": []
    },
    {
      "cell_type": "code",
      "metadata": {
        "id": "xtIHLBIJ_a9x"
      },
      "source": [
        "#if, else, elif\n",
        "letra = input(\"Digite uma letra: \").upper()\n",
        "\n",
        "if letra == \"A\":\n",
        "  print(\"A de Amor\")\n",
        "elif letra == \"B\":\n",
        "  print(\"B de Baixinho\")\n",
        "elif letra == \"C\":\n",
        "  print(\"C de Coração\")\n",
        "else:\n",
        "  print(\"Não sei opinar\")"
      ],
      "execution_count": null,
      "outputs": []
    },
    {
      "cell_type": "code",
      "metadata": {
        "colab": {
          "base_uri": "https://localhost:8080/"
        },
        "id": "ay3vcjDQAVgr",
        "outputId": "56b6efe1-4b28-440c-cb4b-c78750e14930"
      },
      "source": [
        "# Funções\n",
        "\n",
        "# Para criar uma função, usamos a declaração 'def', seguida de parênteses e criando um bloco com o símbolo ':'\n",
        "# Todo o conteúdo que estiver dentro da função, terá um nível de indentação, como fizemos no if, elif e else\n",
        "\n",
        "# É importante entender que a função possui dois estágios: declaração e execução\n",
        "# A declaração é quando falamos o que a função irá fazer ao ser EXECUTADA\n",
        "# A execução é a função tendo efeito de fato e executando tudo no processador\n",
        "\n",
        "# Declaração podemos fazer apenas uma única vez\n",
        "# Execução podemos fazer quantas vezes quisermos (daí vem a magia das funções, o reaproveitamento de lógica)\n",
        "\n",
        "# Declaração da função 'exibir_nome()':\n",
        "def exibir_nome():\n",
        "  print(\"Lais Costa\")\n",
        "\n",
        "\n",
        "# Execução da função 'exibir_nome()':\n",
        "exibir_nome()\n"
      ],
      "execution_count": 2,
      "outputs": [
        {
          "output_type": "stream",
          "text": [
            "Lais Costa\n"
          ],
          "name": "stdout"
        }
      ]
    },
    {
      "cell_type": "code",
      "metadata": {
        "id": "NSwenwbUBKNp"
      },
      "source": [
        "# Declaração\n",
        "\n",
        "def exibir_faixa_etaria():\n",
        "    idade = int(input(\"Digite a idade:\"))\n",
        "    faixa_etaria1 = idade >= 0\n",
        "    faixa_etaria2 = idade >= 18\n",
        "    faixa_etaria3 = idade >= 40\n",
        "\n",
        "    print(\"Idade:\", idade)\n",
        "\n",
        "    if faixa_etaria3:\n",
        "        print(\"Essa pessoa está na faixa etária 3\")\n",
        "    elif faixa_etaria2:\n",
        "        print(\"Essa pessoa está na faixa etária 2\")\n",
        "    elif faixa_etaria1:\n",
        "        print(\"Essa pessoa está na faixa etária 1\")\n",
        "    else:\n",
        "        print(\"Informe uma idade correta!\")\n",
        "        exibir_faixa_etaria()\n",
        "\n",
        "# Execução\n",
        "exibir_faixa_etaria()"
      ],
      "execution_count": null,
      "outputs": []
    },
    {
      "cell_type": "code",
      "metadata": {
        "id": "f1ccUP_RBK7b"
      },
      "source": [
        "'''Exercício 13\n",
        "Nome: Convertendo Celsius/Fahrenheit\n",
        "Objetivo: Escrever duas funções de conversão, uma de graus celsius em fahrenheit e a outra que faça o contrário.\n",
        "Dificuldade: Principiante\n",
        "1 - Crie um aplicativo de conversão entre as temperaturas Celsius e Fahrenheit.\n",
        "2 - Primeiro o usuário deve escolher se vai entrar com a temperatura em Celsius ou Fahrenheit, depois a conversão escolhida é realizada.\n",
        "3 - Se C é a temperatura em Celsius e F em Fahrenheit, as fórmulas de conversão são:\n",
        "F = (9 * C / 5) + 32\n",
        "C = 5 * (F - 32) / 9'''\n",
        "\n",
        "def converter_para_Celsius(temperatura):\n",
        "  conversao = (temperatura - 32) * 5/9\n",
        "  print(\"{:.1f}ºF = {:.1f}ºC\".format(temperatura, conversao))\n",
        "\n",
        "def converter_para_fahrenheit(temperatura):\n",
        "  conversao = (temperatura * 9/5) + 32\n",
        "  print(\"{:.1f}ºC = {:.1f}ºF\".format(temperatura, conversao))\n",
        "\n",
        "print(\"***Escolha um opção***\")\n",
        "print(\"[ C ] - Converter de Fahrenheit para Celsius\")\n",
        "print(\"[ F ] - Converter de Celsius para Fahrenheit\")\n",
        "opcao = input(\"\").upper()\n",
        "if opcao == \"C\":\n",
        "  grau = \"Fahrenheit\"\n",
        "elif opcao == \"F\":\n",
        "  grau = \"Celsius\"\n",
        "else:\n",
        "  print(\"Opção invalida!\")\n",
        "\n",
        "temperatura = float(input(\"Digite a temperatura em {}:\".format(grau)))\n",
        "\n",
        "if grau == \"Fahrenheit\":\n",
        "  converter_para_Celsius(temperatura)\n",
        "elif grau == \"Celsius\":\n",
        "  converter_para_fahrenheit(temperatura)\n",
        "else:\n",
        "  print(\"Opção invalida!\")\n",
        "\n"
      ],
      "execution_count": null,
      "outputs": []
    },
    {
      "cell_type": "code",
      "metadata": {
        "id": "OchWb5ypLxlg"
      },
      "source": [
        "# Lista\n",
        "\n",
        "#         Valores da lista\n",
        "numeros = [5, 9, 10, 20, 40, 80, 120, 300, 500, 900, 1000]\n",
        "# Índices [0, 1,  2,  3,  4,  5,   6]\n",
        "\n",
        "print(numeros, type(numeros))\n",
        "\n",
        "primeiro_numero = numeros[0]\n",
        "print(\"Primeiro número:\", primeiro_numero, type(primeiro_numero))\n",
        "\n",
        "quantidade_numeros = len(numeros)\n",
        "print(\"Quantidade de números:\", quantidade_numeros, type(quantidade_numeros))\n",
        "\n",
        "ultimo_indice = quantidade_numeros - 1\n",
        "ultimo_numero = numeros[ultimo_indice]\n",
        "print(\"Último número:\", ultimo_numero, type(ultimo_numero))"
      ],
      "execution_count": null,
      "outputs": []
    },
    {
      "cell_type": "code",
      "metadata": {
        "id": "934MXfNKLyaR"
      },
      "source": [
        "# Mudando os valores de uma lista\n",
        "\n",
        "numeros = [5, 9, 10, 20]\n",
        "\n",
        "print(\"Primeiro número:\", numeros[0], numeros)\n",
        "print(\"Último número:\", numeros[-1], numeros)\n",
        "\n",
        "numeros[0] = 90\n",
        "\n",
        "print(\"Primeiro número alterado:\", numeros[0], numeros)\n",
        "\n",
        "numeros[-1] = 15\n",
        "\n",
        "print(\"Último número alterado:\", numeros[-1], numeros)"
      ],
      "execution_count": null,
      "outputs": []
    },
    {
      "cell_type": "code",
      "metadata": {
        "id": "AELZsgY-MCgH"
      },
      "source": [
        "numeros = [1, 11, 44, 67, 8, 9, 4]\n",
        "indice = int(input(\"Digite um índice: \"))\n",
        "\n",
        "numeros[indice] = 90\n",
        "\n",
        "print(numeros)"
      ],
      "execution_count": null,
      "outputs": []
    },
    {
      "cell_type": "code",
      "metadata": {
        "id": "PChChp3JMQpI"
      },
      "source": [
        "# Listas vazias\n",
        "\n",
        "lista = []\n",
        "\n",
        "print(lista, len(lista), type(lista))"
      ],
      "execution_count": null,
      "outputs": []
    },
    {
      "cell_type": "code",
      "metadata": {
        "colab": {
          "base_uri": "https://localhost:8080/"
        },
        "id": "Zynzxhh-MS_q",
        "outputId": "15fdd222-a841-4dab-adf5-7a581fd41b85"
      },
      "source": [
        "# Adicionando elementos na lista\n",
        "\n",
        "numeros = []\n",
        "\n",
        "print(numeros, len(numeros), type(numeros))\n",
        "numeros.append(10)\n",
        "numeros.append(80)\n",
        "numeros.append(7)\n",
        "numeros.append(12)\n",
        "numeros.append(19)\n",
        "numeros.insert(0, 999)\n",
        "\n",
        "print(numeros, len(numeros), type(numeros))"
      ],
      "execution_count": 33,
      "outputs": [
        {
          "output_type": "stream",
          "text": [
            "[] 0 <class 'list'>\n",
            "[999, 10, 80, 7, 12, 19] 6 <class 'list'>\n"
          ],
          "name": "stdout"
        }
      ]
    },
    {
      "cell_type": "code",
      "metadata": {
        "id": "krmS3ObuM3io"
      },
      "source": [
        "# Ordenando uma lista\n",
        "\n",
        "numeros = [9, 3, 4, 77, 1, 6, 5, 300, 20]\n",
        "\n",
        "numeros.sort(reverse=True)\n",
        "\n",
        "print(numeros)"
      ],
      "execution_count": null,
      "outputs": []
    },
    {
      "cell_type": "code",
      "metadata": {
        "id": "uU7WlRFJM4PI"
      },
      "source": [
        "# Visualizando todos os itens de uma lista\n",
        "# Declaração: 'for'\n",
        "\n",
        "numeros = [10, 90, 40, 30, 20, 50]\n",
        "\n",
        "for numero in numeros:\n",
        "  print(numero)"
      ],
      "execution_count": null,
      "outputs": []
    },
    {
      "cell_type": "code",
      "metadata": {
        "colab": {
          "base_uri": "https://localhost:8080/"
        },
        "id": "pCN9SLmCM77P",
        "outputId": "115b31f4-52c9-47cb-a46f-4334c99f863e"
      },
      "source": [
        "# Visualizando todos os itens de uma lista\n",
        "# Declaração: 'for'\n",
        "\n",
        "# for valor in lista:\n",
        "#   Executo uma vez para cada valor.\n",
        "#   Em cada execução, a variável 'valor' possui uma informação diferente\n",
        "# Exemplo: Numa lista com [4, 12, 6]\n",
        "# Se tivermos: for valor in lista:\n",
        "# Temos na 'primeira' execução do for a informação '4' para a variável 'valor'\n",
        "# Temos na 'segunda' execução do for a informação '12' para a variável 'valor'\n",
        "# Temos na 'terceira' execução do for a informação '6' para a variável 'valor'\n",
        "\n",
        "numeros = [10, 90, 40, 30, 20, 50]\n",
        "numeros_em_dobro = []\n",
        "\n",
        "for numero in numeros:\n",
        "  numeros_em_dobro.append(numero * 2)\n",
        "  print(\"Execução do for para o número:\", f\"{numero} * 2 = {numero * 2}\")\n",
        "\n",
        "print(numeros)\n",
        "print(numeros_em_dobro)"
      ],
      "execution_count": 35,
      "outputs": [
        {
          "output_type": "stream",
          "text": [
            "Execução do for para o número: 10 * 2 = 20\n",
            "Execução do for para o número: 90 * 2 = 180\n",
            "Execução do for para o número: 40 * 2 = 80\n",
            "Execução do for para o número: 30 * 2 = 60\n",
            "Execução do for para o número: 20 * 2 = 40\n",
            "Execução do for para o número: 50 * 2 = 100\n",
            "[10, 90, 40, 30, 20, 50]\n",
            "[20, 180, 80, 60, 40, 100]\n"
          ],
          "name": "stdout"
        }
      ]
    },
    {
      "cell_type": "code",
      "metadata": {
        "id": "KFl_RTGXNP24"
      },
      "source": [
        "# For indexado, em que temos acesso ao índice de cada valor\n",
        "\n",
        "for indice in range(10):\n",
        "  print(indice)"
      ],
      "execution_count": null,
      "outputs": []
    },
    {
      "cell_type": "code",
      "metadata": {
        "id": "UdkjMKIJNTig"
      },
      "source": [
        "numeros = [9, 4, 3, 7, 5]\n",
        "# For indexado, em que temos acesso ao índice de cada valor\n",
        "\n",
        "for indice in range(len(numeros)):\n",
        "  numero = numeros[indice]\n",
        "  print(\"Índice\", indice, \"temos o valor\", numero)"
      ],
      "execution_count": null,
      "outputs": []
    },
    {
      "cell_type": "code",
      "metadata": {
        "id": "tI-BXInWNdDH"
      },
      "source": [
        "# Encerrando o for de maneira forçada com o break\n",
        "\n",
        "numeros = [9, 4, 3, 7, 5]\n",
        "# For indexado, em que temos acesso ao índice de cada valor\n",
        "\n",
        "for indice in range(len(numeros)):\n",
        "  numero = numeros[indice]\n",
        "  print(\"Índice\", indice, \"temos o valor\", numero)\n",
        "\n",
        "  if indice == 2:\n",
        "    break"
      ],
      "execution_count": null,
      "outputs": []
    },
    {
      "cell_type": "code",
      "metadata": {
        "id": "mSqTX3kZNkaw"
      },
      "source": [
        "# Introduzindo um pouco do enumerate\n",
        "\n",
        "numeros = [9, 12, 4, 7, 3]\n",
        "\n",
        "enum = enumerate(numeros)\n",
        "lista = list(enum)\n",
        "\n",
        "print(lista)"
      ],
      "execution_count": null,
      "outputs": []
    },
    {
      "cell_type": "code",
      "metadata": {
        "colab": {
          "base_uri": "https://localhost:8080/"
        },
        "id": "SfFMH67aN3B5",
        "outputId": "11120f0a-7a0e-42e0-8a28-f96b7a043e09"
      },
      "source": [
        "# Tuplas -> Parecem muito com as listas\n",
        "tupla = (1, 5, 9, 7, 6)\n",
        "print(tupla, type(tupla))\n",
        "\n",
        "#Acessando elementos da tupla\n",
        "\n",
        "numeros = (9, 7, 6, 3, 4, 65)\n",
        "\n",
        "primeiro_numero = numeros[0]\n",
        "\n",
        "print(primeiro_numero, type(primeiro_numero))"
      ],
      "execution_count": 40,
      "outputs": [
        {
          "output_type": "stream",
          "text": [
            "(1, 5, 9, 7, 6) <class 'tuple'>\n",
            "9 <class 'int'>\n"
          ],
          "name": "stdout"
        }
      ]
    },
    {
      "cell_type": "code",
      "metadata": {
        "id": "AZWcnhyPOVbC"
      },
      "source": [
        "tupla = (5, 6, 9, 7, 3)\n",
        "\n",
        "print(tupla, type(tupla))\n",
        "\n",
        "# Transforma qualquer coisa em lista (desde que seja um tipo suportado)\n",
        "lista = list(tupla)\n",
        "\n",
        "lista[0] = 9\n",
        "\n",
        "print(lista)\n",
        "\n",
        "tupla = tuple(lista)\n",
        "\n",
        "print(tupla)"
      ],
      "execution_count": null,
      "outputs": []
    },
    {
      "cell_type": "code",
      "metadata": {
        "colab": {
          "base_uri": "https://localhost:8080/"
        },
        "id": "ewnySEVvOWG5",
        "outputId": "6562ae3f-5696-4826-e9c3-9ff6dacbbf18"
      },
      "source": [
        "\"\"\"\n",
        "Se a lista for em string, como fazermos para clássicas em ordem alfabética?\n",
        "\"\"\"\n",
        "\n",
        "nomes = [\"Rafael\", \"Paulo\", \"Marina\", \"Mariana\", \"Gabriel\", \"Juliano\"]\n",
        "\n",
        "nomes.sort()\n",
        "#nomes.sort(reverse=True) - Ordem decrescente \n",
        "\n",
        "print(nomes)"
      ],
      "execution_count": 42,
      "outputs": [
        {
          "output_type": "stream",
          "text": [
            "['Gabriel', 'Juliano', 'Mariana', 'Marina', 'Paulo', 'Rafael']\n"
          ],
          "name": "stdout"
        }
      ]
    },
    {
      "cell_type": "code",
      "metadata": {
        "colab": {
          "base_uri": "https://localhost:8080/"
        },
        "id": "5yUH7G9eO3l6",
        "outputId": "266dca28-2b76-4918-a1a8-b76ec7dd9b37"
      },
      "source": [
        "# Dicionários\n",
        "# Quase iguais as listas\n",
        "# A única diferença é que podemos/devemos definir os índices\n",
        "\n",
        "# Enquanto a lista atribui índices sequenciais de maneira automática,\n",
        "# os dicionários precisam desse índice definido\n",
        "\n",
        "dicionario = {\"nome\": \"Lais\", \"sobrenome\": \"Costa\"}\n",
        "\n",
        "print(dicionario, type(dicionario))\n",
        "\n",
        "nome = dicionario[\"nome\"]\n",
        "print(nome, type(nome))\n",
        "\n",
        "sobrenome = dicionario[\"sobrenome\"]\n",
        "print(sobrenome, type(sobrenome))"
      ],
      "execution_count": 43,
      "outputs": [
        {
          "output_type": "stream",
          "text": [
            "{'nome': 'Lais', 'sobrenome': 'Costa'} <class 'dict'>\n",
            "Lais <class 'str'>\n",
            "Costa <class 'str'>\n"
          ],
          "name": "stdout"
        }
      ]
    }
  ]
}